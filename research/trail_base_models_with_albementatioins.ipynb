{
 "cells": [
  {
   "cell_type": "markdown",
   "metadata": {},
   "source": [
    "Setting Directory"
   ]
  },
  {
   "cell_type": "code",
   "execution_count": 1,
   "metadata": {},
   "outputs": [],
   "source": [
    "import os\n",
    "from pathlib import Path\n",
    "import logging"
   ]
  },
  {
   "cell_type": "code",
   "execution_count": 2,
   "metadata": {},
   "outputs": [
    {
     "data": {
      "text/plain": [
       "'/Volumes/T7/DL_Skin_Cancer_Project/skin_cancer_diagnosis'"
      ]
     },
     "execution_count": 2,
     "metadata": {},
     "output_type": "execute_result"
    }
   ],
   "source": [
    "os.chdir(\"../\")\n",
    "%pwd"
   ]
  },
  {
   "cell_type": "markdown",
   "metadata": {},
   "source": [
    "Training Component"
   ]
  },
  {
   "cell_type": "markdown",
   "metadata": {},
   "source": [
    "Import Confugarations"
   ]
  },
  {
   "cell_type": "code",
   "execution_count": 4,
   "metadata": {},
   "outputs": [],
   "source": [
    "from skinCancerDiagnosis.entity.config_entity import TrailTrainingConfig\n",
    "from skinCancerDiagnosis.config.configuration import ConfugarationManager\n",
    "from skinCancerDiagnosis.components.data_prep import DataGenerator"
   ]
  },
  {
   "cell_type": "markdown",
   "metadata": {},
   "source": [
    "Necesary LIbraries"
   ]
  },
  {
   "cell_type": "code",
   "execution_count": 5,
   "metadata": {},
   "outputs": [],
   "source": [
    "import tensorflow as tf\n",
    "from tensorflow.keras.layers import Dense, GlobalAveragePooling2D\n",
    "from tensorflow.keras.models import Model\n",
    "from tensorflow.keras.callbacks import EarlyStopping"
   ]
  },
  {
   "cell_type": "code",
   "execution_count": 6,
   "metadata": {},
   "outputs": [],
   "source": [
    "class Training:\n",
    "    def __init__(self,base_model,model_name,config:TrailTrainingConfig):\n",
    "        self.config = config\n",
    "        self.early_stopping = EarlyStopping(monitor='val_loss',patience=config.params_patience,restore_best_weights=True)\n",
    "        self.base_model = base_model\n",
    "        self.model_name = model_name\n",
    "\n",
    "    def define_base_model(self):\n",
    "#         base_model = VGG19(weights='imagenet', include_top=False)\n",
    "        base_model = self.base_model\n",
    "        x = base_model.output\n",
    "        x = GlobalAveragePooling2D()(x)\n",
    "        x = Dense(256, activation='relu')(x)\n",
    "        predictions = Dense(8, activation='softmax')(x)\n",
    "\n",
    "        model = Model(inputs=base_model.input, outputs=predictions)\n",
    "\n",
    "        for layer in base_model.layers:\n",
    "            layer.trainable = False\n",
    "\n",
    "        print(model.summary())\n",
    "        \n",
    "        return model\n",
    "    \n",
    "    @staticmethod\n",
    "    def save_model(path:Path, model:tf.keras.Model,model_name):\n",
    "        model_path = os.path.join(path,model_name)\n",
    "        model.save(model_path)\n",
    "    \n",
    "    def get_model_and_compile(self):\n",
    "        with tf.device('/GPU:0'):\n",
    "            self.model = self.define_base_model()\n",
    "            self.model.compile(\n",
    "                optimizer = 'adam',\n",
    "                loss = \"categorical_crossentropy\",\n",
    "                metrics = ['accuracy']\n",
    "            )\n",
    "    \n",
    "    def train_model(self,train_generator,val_generator):\n",
    "        with tf.device('/GPU:0'):\n",
    "            self.history = self.model.fit(\n",
    "                train_generator,\n",
    "                epochs = self.config.params_epochs,\n",
    "                validation_data = val_generator,\n",
    "                validation_steps = val_generator.samples//val_generator.batch_size,\n",
    "                verbose = 1,\n",
    "                callbacks = [self.early_stopping]\n",
    "            )\n",
    "\n",
    "        self.save_model(\n",
    "            path=self.config.root_dir,\n",
    "            model=self.model,\n",
    "            model_name = self.model_name\n",
    "        )"
   ]
  },
  {
   "cell_type": "markdown",
   "metadata": {},
   "source": [
    "VGG19 training Pipeline"
   ]
  },
  {
   "cell_type": "code",
   "execution_count": 7,
   "metadata": {},
   "outputs": [],
   "source": [
    "from tensorflow.keras.applications import VGG19"
   ]
  },
  {
   "cell_type": "code",
   "execution_count": 8,
   "metadata": {},
   "outputs": [
    {
     "name": "stdout",
     "output_type": "stream",
     "text": [
      "[2024-05-01 11:38:32,896: INFO: common: yaml file: config/config.yaml loaded successfully]\n",
      "[2024-05-01 11:38:32,900: INFO: common: yaml file: params.yaml loaded successfully]\n",
      "[2024-05-01 11:38:32,901: INFO: common: created directory at: artifacts]\n"
     ]
    },
    {
     "ename": "AttributeError",
     "evalue": "module 'albumentations' has no attribute 'compose'",
     "output_type": "error",
     "traceback": [
      "\u001b[0;31m---------------------------------------------------------------------------\u001b[0m",
      "\u001b[0;31mAttributeError\u001b[0m                            Traceback (most recent call last)",
      "Cell \u001b[0;32mIn[8], line 16\u001b[0m\n\u001b[1;32m     13\u001b[0m     vgg_trainer\u001b[38;5;241m.\u001b[39mtrain_model(train_generator\u001b[38;5;241m=\u001b[39mtrain_generator,val_generator\u001b[38;5;241m=\u001b[39mval_generator)\n\u001b[1;32m     15\u001b[0m \u001b[38;5;28;01mexcept\u001b[39;00m \u001b[38;5;167;01mException\u001b[39;00m \u001b[38;5;28;01mas\u001b[39;00m e:\n\u001b[0;32m---> 16\u001b[0m     \u001b[38;5;28;01mraise\u001b[39;00m e\n",
      "Cell \u001b[0;32mIn[8], line 6\u001b[0m\n\u001b[1;32m      4\u001b[0m data_prep_config \u001b[38;5;241m=\u001b[39m config\u001b[38;5;241m.\u001b[39mget_data_prep_config()\n\u001b[1;32m      5\u001b[0m generator \u001b[38;5;241m=\u001b[39m DataGenerator(config\u001b[38;5;241m=\u001b[39mdata_prep_config)\n\u001b[0;32m----> 6\u001b[0m train_generator \u001b[38;5;241m=\u001b[39m \u001b[43mgenerator\u001b[49m\u001b[38;5;241;43m.\u001b[39;49m\u001b[43mget_train_generator\u001b[49m\u001b[43m(\u001b[49m\u001b[43m)\u001b[49m\n\u001b[1;32m      7\u001b[0m val_generator \u001b[38;5;241m=\u001b[39m generator\u001b[38;5;241m.\u001b[39mget_val_generator()\n\u001b[1;32m      9\u001b[0m trail_train_config \u001b[38;5;241m=\u001b[39m config\u001b[38;5;241m.\u001b[39mget_trail_training_config()\n",
      "File \u001b[0;32m/Volumes/T7/DL_Skin_Cancer_Project/skin_cancer_diagnosis/src/skinCancerDiagnosis/components/data_prep.py:44\u001b[0m, in \u001b[0;36mDataGenerator.get_train_generator\u001b[0;34m(self)\u001b[0m\n\u001b[1;32m     42\u001b[0m     train_generator \u001b[38;5;241m=\u001b[39m \u001b[38;5;28mself\u001b[39m\u001b[38;5;241m.\u001b[39mmake_generator(datagen\u001b[38;5;241m=\u001b[39mtrain_datagen,file_path\u001b[38;5;241m=\u001b[39m\u001b[38;5;28mself\u001b[39m\u001b[38;5;241m.\u001b[39mtrain_dir,shuffle\u001b[38;5;241m=\u001b[39m\u001b[38;5;28;01mTrue\u001b[39;00m)\n\u001b[1;32m     43\u001b[0m \u001b[38;5;28;01melif\u001b[39;00m \u001b[38;5;28mself\u001b[39m\u001b[38;5;241m.\u001b[39mconfig\u001b[38;5;241m.\u001b[39mparams_augmentation\u001b[38;5;241m==\u001b[39m\u001b[38;5;124m\"\u001b[39m\u001b[38;5;124malbumentations\u001b[39m\u001b[38;5;124m\"\u001b[39m:\n\u001b[0;32m---> 44\u001b[0m     data_generator \u001b[38;5;241m=\u001b[39m \u001b[43mDataAlbumPrep\u001b[49m\u001b[43m(\u001b[49m\u001b[43mtrain_path\u001b[49m\u001b[38;5;241;43m=\u001b[39;49m\u001b[38;5;28;43mself\u001b[39;49m\u001b[38;5;241;43m.\u001b[39;49m\u001b[43mtrain_dir\u001b[49m\u001b[43m,\u001b[49m\u001b[43mtest_path\u001b[49m\u001b[38;5;241;43m=\u001b[39;49m\u001b[38;5;28;43mself\u001b[39;49m\u001b[38;5;241;43m.\u001b[39;49m\u001b[43mval_dir\u001b[49m\u001b[43m,\u001b[49m\u001b[43mnum_classes\u001b[49m\u001b[38;5;241;43m=\u001b[39;49m\u001b[38;5;28;43mself\u001b[39;49m\u001b[38;5;241;43m.\u001b[39;49m\u001b[43mconfig\u001b[49m\u001b[38;5;241;43m.\u001b[39;49m\u001b[43mparams_numclasses\u001b[49m\u001b[43m)\u001b[49m\n\u001b[1;32m     45\u001b[0m     img \u001b[38;5;241m=\u001b[39m \u001b[38;5;28mself\u001b[39m\u001b[38;5;241m.\u001b[39mconfig\u001b[38;5;241m.\u001b[39mparams_image_size\n\u001b[1;32m     46\u001b[0m     img_size \u001b[38;5;241m=\u001b[39m \u001b[38;5;28mtuple\u001b[39m(img[\u001b[38;5;241m0\u001b[39m],img[\u001b[38;5;241m1\u001b[39m])\n",
      "File \u001b[0;32m/Volumes/T7/DL_Skin_Cancer_Project/skin_cancer_diagnosis/src/skinCancerDiagnosis/components/data_prep_album.py:16\u001b[0m, in \u001b[0;36mDataAlbumPrep.__init__\u001b[0;34m(self, train_path, test_path, num_classes)\u001b[0m\n\u001b[1;32m     14\u001b[0m \u001b[38;5;28mself\u001b[39m\u001b[38;5;241m.\u001b[39mnum_classes \u001b[38;5;241m=\u001b[39m num_classes\n\u001b[1;32m     15\u001b[0m \u001b[38;5;28mself\u001b[39m\u001b[38;5;241m.\u001b[39mlabels \u001b[38;5;241m=\u001b[39m os\u001b[38;5;241m.\u001b[39mlistdir(train_path)\n\u001b[0;32m---> 16\u001b[0m \u001b[38;5;28mself\u001b[39m\u001b[38;5;241m.\u001b[39mtransform \u001b[38;5;241m=\u001b[39m \u001b[43mA\u001b[49m\u001b[38;5;241;43m.\u001b[39;49m\u001b[43mcompose\u001b[49m([\n\u001b[1;32m     17\u001b[0m     A\u001b[38;5;241m.\u001b[39mRotate(limit\u001b[38;5;241m=\u001b[39m\u001b[38;5;241m40\u001b[39m),\n\u001b[1;32m     18\u001b[0m     A\u001b[38;5;241m.\u001b[39mImageCompression(quality_lower\u001b[38;5;241m=\u001b[39m\u001b[38;5;241m85\u001b[39m, quality_upper\u001b[38;5;241m=\u001b[39m\u001b[38;5;241m100\u001b[39m, p\u001b[38;5;241m=\u001b[39m\u001b[38;5;241m0.5\u001b[39m),\n\u001b[1;32m     19\u001b[0m     A\u001b[38;5;241m.\u001b[39mHueSaturationValue(hue_shift_limit\u001b[38;5;241m=\u001b[39m\u001b[38;5;241m20\u001b[39m, sat_shift_limit\u001b[38;5;241m=\u001b[39m\u001b[38;5;241m30\u001b[39m, val_shift_limit\u001b[38;5;241m=\u001b[39m\u001b[38;5;241m20\u001b[39m, p\u001b[38;5;241m=\u001b[39m\u001b[38;5;241m0.5\u001b[39m),\n\u001b[1;32m     20\u001b[0m     A\u001b[38;5;241m.\u001b[39mHorizontalFlip(),\n\u001b[1;32m     21\u001b[0m ])\n\u001b[1;32m     23\u001b[0m \u001b[38;5;28mself\u001b[39m\u001b[38;5;241m.\u001b[39mle \u001b[38;5;241m=\u001b[39m LabelEncoder()\n",
      "\u001b[0;31mAttributeError\u001b[0m: module 'albumentations' has no attribute 'compose'"
     ]
    }
   ],
   "source": [
    "try:\n",
    "    config = ConfugarationManager()\n",
    "\n",
    "    data_prep_config = config.get_data_prep_config()\n",
    "    generator = DataGenerator(config=data_prep_config)\n",
    "    train_generator = generator.get_train_generator()\n",
    "    val_generator = generator.get_val_generator()\n",
    "    \n",
    "    trail_train_config = config.get_trail_training_config()\n",
    "    vgg_base = VGG19(weights='imagenet', include_top=False)\n",
    "    vgg_trainer = Training(config=trail_train_config,base_model=vgg_base,model_name='VGG19.h5')\n",
    "    vgg_trainer.get_model_and_compile()\n",
    "    vgg_trainer.train_model(train_generator=train_generator,val_generator=val_generator)\n",
    "\n",
    "except Exception as e:\n",
    "    raise e"
   ]
  },
  {
   "cell_type": "code",
   "execution_count": null,
   "metadata": {},
   "outputs": [],
   "source": []
  }
 ],
 "metadata": {
  "kernelspec": {
   "display_name": "Python 3",
   "language": "python",
   "name": "python3"
  },
  "language_info": {
   "codemirror_mode": {
    "name": "ipython",
    "version": 3
   },
   "file_extension": ".py",
   "mimetype": "text/x-python",
   "name": "python",
   "nbconvert_exporter": "python",
   "pygments_lexer": "ipython3",
   "version": "3.9.19"
  }
 },
 "nbformat": 4,
 "nbformat_minor": 2
}
