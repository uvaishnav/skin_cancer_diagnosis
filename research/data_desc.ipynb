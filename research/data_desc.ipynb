{
 "cells": [
  {
   "cell_type": "markdown",
   "metadata": {},
   "source": [
    "Understanding Data"
   ]
  },
  {
   "cell_type": "code",
   "execution_count": 1,
   "metadata": {},
   "outputs": [],
   "source": [
    "import os\n",
    "from pathlib import Path"
   ]
  },
  {
   "cell_type": "code",
   "execution_count": 2,
   "metadata": {},
   "outputs": [],
   "source": [
    "from skinCancerDiagnosis.constants import*\n",
    "from skinCancerDiagnosis.utils.common import read_yaml"
   ]
  },
  {
   "cell_type": "code",
   "execution_count": 3,
   "metadata": {},
   "outputs": [
    {
     "data": {
      "text/plain": [
       "'/Volumes/T7/DL_Skin_Cancer_Project/skin_cancer_diagnosis/research'"
      ]
     },
     "execution_count": 3,
     "metadata": {},
     "output_type": "execute_result"
    }
   ],
   "source": [
    "%pwd"
   ]
  },
  {
   "cell_type": "code",
   "execution_count": 4,
   "metadata": {},
   "outputs": [],
   "source": [
    "os.chdir(\"../\")"
   ]
  },
  {
   "cell_type": "code",
   "execution_count": 5,
   "metadata": {},
   "outputs": [
    {
     "data": {
      "text/plain": [
       "'/Volumes/T7/DL_Skin_Cancer_Project/skin_cancer_diagnosis'"
      ]
     },
     "execution_count": 5,
     "metadata": {},
     "output_type": "execute_result"
    }
   ],
   "source": [
    "%pwd"
   ]
  },
  {
   "cell_type": "markdown",
   "metadata": {},
   "source": [
    "Get Data Path"
   ]
  },
  {
   "cell_type": "code",
   "execution_count": 6,
   "metadata": {},
   "outputs": [
    {
     "name": "stdout",
     "output_type": "stream",
     "text": [
      "[2024-04-18 08:57:40,963: INFO: common: yaml file: config/config.yaml loaded successfully]\n"
     ]
    }
   ],
   "source": [
    "config = read_yaml(CONFIG_FILE_PATH)"
   ]
  },
  {
   "cell_type": "code",
   "execution_count": 7,
   "metadata": {},
   "outputs": [
    {
     "name": "stdout",
     "output_type": "stream",
     "text": [
      "artifacts/data_ingestion/ISIC - 2019\n"
     ]
    }
   ],
   "source": [
    "data_path = config.data_path\n",
    "\n",
    "print(data_path)"
   ]
  },
  {
   "cell_type": "markdown",
   "metadata": {},
   "source": [
    "Data Classification"
   ]
  },
  {
   "cell_type": "code",
   "execution_count": 8,
   "metadata": {},
   "outputs": [
    {
     "data": {
      "text/plain": [
       "['test', 'train', 'val']"
      ]
     },
     "execution_count": 8,
     "metadata": {},
     "output_type": "execute_result"
    }
   ],
   "source": [
    "os.listdir(data_path)"
   ]
  },
  {
   "cell_type": "code",
   "execution_count": 9,
   "metadata": {},
   "outputs": [
    {
     "name": "stdout",
     "output_type": "stream",
     "text": [
      "Classes in the Dataset:\n",
      "-----------------\n",
      "Actinic keratosis\n",
      "Basal cell carcinoma\n",
      "Benign keratosis\n",
      "Dermatofibroma\n",
      "Melanocytic nevus\n",
      "Melanoma\n",
      "Squamous cell carcinoma\n",
      "Vascular lesion\n",
      "-----------------\n",
      "Total no.of classes : 8\n"
     ]
    }
   ],
   "source": [
    "train_dir = os.path.join(data_path,\"train\")\n",
    "\n",
    "print(\"Classes in the Dataset:\")\n",
    "\n",
    "print(\"-----------------\")\n",
    "\n",
    "for i in os.listdir(train_dir):\n",
    "    print(i)\n",
    "\n",
    "print(\"-----------------\")\n",
    "print(\"Total no.of classes : {}\".format(len(os.listdir(train_dir))))"
   ]
  },
  {
   "cell_type": "markdown",
   "metadata": {},
   "source": [
    "Understanding Data Distribution"
   ]
  },
  {
   "cell_type": "code",
   "execution_count": 10,
   "metadata": {},
   "outputs": [],
   "source": [
    "from tabulate import tabulate\n",
    "import matplotlib.pyplot as plt"
   ]
  },
  {
   "cell_type": "code",
   "execution_count": 11,
   "metadata": {},
   "outputs": [],
   "source": [
    "def count_images_per_class(root_dir, split):\n",
    "    # List of lists to store data for tabulation\n",
    "    data = []\n",
    "\n",
    "    # Path to the split directory\n",
    "    split_path = os.path.join(root_dir, split)\n",
    "    \n",
    "    if os.path.isdir(split_path):\n",
    "        for class_dir in os.listdir(split_path):\n",
    "            class_path = os.path.join(split_path, class_dir)\n",
    "            if os.path.isdir(class_path):\n",
    "                # Count number of images in the class directory\n",
    "                num_images = len([f for f in os.listdir(class_path) if f.endswith('.jpg') or f.endswith('.png')])\n",
    "                data.append([class_dir, num_images])\n",
    "\n",
    "    return data"
   ]
  },
  {
   "cell_type": "code",
   "execution_count": 12,
   "metadata": {},
   "outputs": [],
   "source": [
    "# Directory containing train, test, and validation folders\n",
    "root_directory = data_path\n",
    "\n",
    "# Get data for tabulation for each split\n",
    "train_data = count_images_per_class(root_directory, \"train\")\n",
    "test_data = count_images_per_class(root_directory, \"test\")\n",
    "val_data = count_images_per_class(root_directory, \"val\")"
   ]
  },
  {
   "cell_type": "markdown",
   "metadata": {},
   "source": [
    "Train data Distibution"
   ]
  },
  {
   "cell_type": "code",
   "execution_count": 13,
   "metadata": {},
   "outputs": [
    {
     "name": "stdout",
     "output_type": "stream",
     "text": [
      "+-------------------------+--------------------+\n",
      "| Class                   |   Number of Images |\n",
      "+=========================+====================+\n",
      "| Actinic keratosis       |                716 |\n",
      "+-------------------------+--------------------+\n",
      "| Basal cell carcinoma    |               2820 |\n",
      "+-------------------------+--------------------+\n",
      "| Benign keratosis        |               2215 |\n",
      "+-------------------------+--------------------+\n",
      "| Dermatofibroma          |                206 |\n",
      "+-------------------------+--------------------+\n",
      "| Melanocytic nevus       |              10979 |\n",
      "+-------------------------+--------------------+\n",
      "| Melanoma                |               3812 |\n",
      "+-------------------------+--------------------+\n",
      "| Squamous cell carcinoma |                541 |\n",
      "+-------------------------+--------------------+\n",
      "| Vascular lesion         |                202 |\n",
      "+-------------------------+--------------------+\n"
     ]
    }
   ],
   "source": [
    "\n",
    "print(tabulate(train_data, headers=[\"Class\", \"Number of Images\"], tablefmt=\"grid\"))"
   ]
  },
  {
   "cell_type": "markdown",
   "metadata": {},
   "source": [
    "Test data Distibution"
   ]
  },
  {
   "cell_type": "code",
   "execution_count": 14,
   "metadata": {},
   "outputs": [
    {
     "name": "stdout",
     "output_type": "stream",
     "text": [
      "+-------------------------+--------------------+\n",
      "| Class                   |   Number of Images |\n",
      "+=========================+====================+\n",
      "| Actinic keratosis       |                 75 |\n",
      "+-------------------------+--------------------+\n",
      "| Basal cell carcinoma    |                250 |\n",
      "+-------------------------+--------------------+\n",
      "| Benign keratosis        |                203 |\n",
      "+-------------------------+--------------------+\n",
      "| Dermatofibroma          |                 11 |\n",
      "+-------------------------+--------------------+\n",
      "| Melanocytic nevus       |                965 |\n",
      "+-------------------------+--------------------+\n",
      "| Melanoma                |                360 |\n",
      "+-------------------------+--------------------+\n",
      "| Squamous cell carcinoma |                 42 |\n",
      "+-------------------------+--------------------+\n",
      "| Vascular lesion         |                 24 |\n",
      "+-------------------------+--------------------+\n"
     ]
    }
   ],
   "source": [
    "\n",
    "print(tabulate(test_data, headers=[\"Class\", \"Number of Images\"], tablefmt=\"grid\"))"
   ]
  },
  {
   "cell_type": "markdown",
   "metadata": {},
   "source": [
    "Validation data Distibution"
   ]
  },
  {
   "cell_type": "code",
   "execution_count": 15,
   "metadata": {},
   "outputs": [
    {
     "name": "stdout",
     "output_type": "stream",
     "text": [
      "+-------------------------+--------------------+\n",
      "| Class                   |   Number of Images |\n",
      "+=========================+====================+\n",
      "| Actinic keratosis       |                 76 |\n",
      "+-------------------------+--------------------+\n",
      "| Basal cell carcinoma    |                253 |\n",
      "+-------------------------+--------------------+\n",
      "| Benign keratosis        |                206 |\n",
      "+-------------------------+--------------------+\n",
      "| Dermatofibroma          |                 22 |\n",
      "+-------------------------+--------------------+\n",
      "| Melanocytic nevus       |                931 |\n",
      "+-------------------------+--------------------+\n",
      "| Melanoma                |                350 |\n",
      "+-------------------------+--------------------+\n",
      "| Squamous cell carcinoma |                 45 |\n",
      "+-------------------------+--------------------+\n",
      "| Vascular lesion         |                 27 |\n",
      "+-------------------------+--------------------+\n"
     ]
    }
   ],
   "source": [
    "\n",
    "print(tabulate(val_data, headers=[\"Class\", \"Number of Images\"], tablefmt=\"grid\"))"
   ]
  },
  {
   "cell_type": "code",
   "execution_count": null,
   "metadata": {},
   "outputs": [],
   "source": []
  }
 ],
 "metadata": {
  "kernelspec": {
   "display_name": "Python 3",
   "language": "python",
   "name": "python3"
  },
  "language_info": {
   "codemirror_mode": {
    "name": "ipython",
    "version": 3
   },
   "file_extension": ".py",
   "mimetype": "text/x-python",
   "name": "python",
   "nbconvert_exporter": "python",
   "pygments_lexer": "ipython3",
   "version": "3.11.3"
  }
 },
 "nbformat": 4,
 "nbformat_minor": 2
}
