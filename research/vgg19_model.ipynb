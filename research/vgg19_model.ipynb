{
 "cells": [
  {
   "cell_type": "markdown",
   "metadata": {},
   "source": [
    "Setting Directory"
   ]
  },
  {
   "cell_type": "code",
   "execution_count": null,
   "metadata": {},
   "outputs": [],
   "source": [
    "import os\n",
    "from pathlib import Path"
   ]
  },
  {
   "cell_type": "code",
   "execution_count": null,
   "metadata": {},
   "outputs": [],
   "source": [
    "import logging"
   ]
  },
  {
   "cell_type": "code",
   "execution_count": null,
   "metadata": {},
   "outputs": [],
   "source": [
    "%pwd"
   ]
  },
  {
   "cell_type": "code",
   "execution_count": null,
   "metadata": {},
   "outputs": [],
   "source": [
    "os.chdir(\"../\")"
   ]
  },
  {
   "cell_type": "code",
   "execution_count": null,
   "metadata": {},
   "outputs": [],
   "source": [
    "%pwd"
   ]
  },
  {
   "cell_type": "markdown",
   "metadata": {},
   "source": [
    "Training Component"
   ]
  },
  {
   "cell_type": "markdown",
   "metadata": {},
   "source": [
    "Import Configurations"
   ]
  },
  {
   "cell_type": "code",
   "execution_count": null,
   "metadata": {},
   "outputs": [],
   "source": [
    "from skinCancerDiagnosis.entity.config_entity import TrailTrainingConfig\n",
    "from skinCancerDiagnosis.config.configuration import ConfugarationManager\n",
    "from skinCancerDiagnosis.components.data_prep import DataGenerator"
   ]
  },
  {
   "cell_type": "markdown",
   "metadata": {},
   "source": [
    "Import Nesessary Libraries"
   ]
  },
  {
   "cell_type": "code",
   "execution_count": null,
   "metadata": {},
   "outputs": [],
   "source": [
    "import tensorflow as tf"
   ]
  },
  {
   "cell_type": "code",
   "execution_count": null,
   "metadata": {},
   "outputs": [],
   "source": [
    "from tensorflow.keras.applications import VGG19\n",
    "from tensorflow.keras.layers import Dense, GlobalAveragePooling2D\n",
    "from tensorflow.keras.models import Model\n",
    "from tensorflow.keras.callbacks import EarlyStopping"
   ]
  },
  {
   "cell_type": "markdown",
   "metadata": {},
   "source": [
    "Training Component"
   ]
  },
  {
   "cell_type": "code",
   "execution_count": null,
   "metadata": {},
   "outputs": [],
   "source": [
    "class vgg19Training:\n",
    "    def __init__(self, config:TrailTrainingConfig):\n",
    "        self.config = config\n",
    "        self.early_stopping = EarlyStopping(monitor='val_loss',patience=config.params_patience,restore_best_weights=True)\n",
    "\n",
    "    def define_base_model(self):\n",
    "        base_model = VGG19(weights=self.config.params_weights, include_top=self.config.params_include_top)\n",
    "\n",
    "        x = base_model.output\n",
    "        x = GlobalAveragePooling2D()(x)\n",
    "        x = Dense(256, activation='relu')(x)\n",
    "        predictions = Dense(8, activation='softmax')(x)\n",
    "\n",
    "        model = Model(inputs=base_model.input, outputs=predictions)\n",
    "\n",
    "        for layer in base_model.layers:\n",
    "            layer.trainable = False\n",
    "\n",
    "        logging.info(model.summary())\n",
    "        \n",
    "        return model\n",
    "    \n",
    "    @staticmethod\n",
    "    def save_model(path:Path, model:tf.keras.Model):\n",
    "        model_path = os.path.join(path,'vgg19.h5')\n",
    "        model.save(model_path)\n",
    "    \n",
    "    def get_model_and_compile(self):\n",
    "        with tf.device('/GPU:0'):\n",
    "            self.vgg19_model = self.define_base_model()\n",
    "            self.vgg19_model.compile(\n",
    "                optimizer = \"adam\",\n",
    "                loss = \"categorical_crossentropy\",\n",
    "                metrics = ['accuracy']\n",
    "            )\n",
    "    \n",
    "    def train_model(self,train_generator,val_generator):\n",
    "        with tf.device('/GPU:0'):\n",
    "            self.history = self.vgg19_model.fit(\n",
    "                train_generator,\n",
    "                steps_per_epoch = train_generator.samples//train_generator.batch_size,\n",
    "                epochs = self.config.params_epochs,\n",
    "                validation_data = val_generator,\n",
    "                validation_steps = val_generator.samples//val_generator.batch_size,\n",
    "                callbacks = [self.early_stopping]\n",
    "            )\n",
    "\n",
    "        self.save_model(\n",
    "            path=self.config.root_dir,\n",
    "            model=self.vgg19_model\n",
    "        )\n",
    "\n"
   ]
  },
  {
   "cell_type": "markdown",
   "metadata": {},
   "source": [
    "Training Pipeline"
   ]
  },
  {
   "cell_type": "code",
   "execution_count": null,
   "metadata": {},
   "outputs": [],
   "source": [
    "try:\n",
    "    config = ConfugarationManager()\n",
    "\n",
    "    data_prep_config = config.get_data_prep_config()\n",
    "    generator = DataGenerator(config=data_prep_config)\n",
    "    train_generator = generator.get_train_generator()\n",
    "    val_generator = generator.get_val_generator()\n",
    "    \n",
    "    trail_train_config = config.get_trail_training_config()\n",
    "    vgg_trainer = vgg19Training(config=trail_train_config)\n",
    "    vgg_trainer.get_model_and_compile()\n",
    "    vgg_trainer.train_model(train_generator=train_generator,val_generator=val_generator)\n",
    "\n",
    "except Exception as e:\n",
    "    raise e"
   ]
  },
  {
   "cell_type": "code",
   "execution_count": null,
   "metadata": {},
   "outputs": [],
   "source": []
  }
 ],
 "metadata": {
  "kernelspec": {
   "display_name": "Python 3",
   "language": "python",
   "name": "python3"
  },
  "language_info": {
   "codemirror_mode": {
    "name": "ipython",
    "version": 3
   },
   "file_extension": ".py",
   "mimetype": "text/x-python",
   "name": "python",
   "nbconvert_exporter": "python",
   "pygments_lexer": "ipython3",
   "version": "3.11.3"
  }
 },
 "nbformat": 4,
 "nbformat_minor": 2
}
